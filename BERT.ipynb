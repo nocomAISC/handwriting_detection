{
 "cells": [
  {
   "cell_type": "code",
   "execution_count": null,
   "metadata": {
    "execution": {
     "iopub.execute_input": "2024-11-07T08:56:17.652702Z",
     "iopub.status.busy": "2024-11-07T08:56:17.651973Z",
     "iopub.status.idle": "2024-11-07T08:56:39.763224Z",
     "shell.execute_reply": "2024-11-07T08:56:39.762433Z",
     "shell.execute_reply.started": "2024-11-07T08:56:17.652648Z"
    },
    "trusted": true
   },
   "outputs": [
    {
     "name": "stderr",
     "output_type": "stream",
     "text": [
      "/Users/aleksandrekhundzakishvili/Desktop/HandwrittenDigits/CNN/venv/lib/python3.8/site-packages/tqdm/auto.py:21: TqdmWarning: IProgress not found. Please update jupyter and ipywidgets. See https://ipywidgets.readthedocs.io/en/stable/user_install.html\n",
      "  from .autonotebook import tqdm as notebook_tqdm\n"
     ]
    }
   ],
   "source": [
    "import os\n",
    "import pandas as pd\n",
    "import numpy as np\n",
    "from PIL import Image\n",
    "import pytesseract\n",
    "import cv2\n",
    "import matplotlib.pyplot as plt\n",
    "\n",
    "from sklearn.metrics import accuracy_score\n",
    "from sklearn.model_selection import train_test_split\n",
    "\n",
    "import tensorflow as tf\n",
    "from tensorflow.keras import layers, models\n",
    "from tensorflow.keras.layers import Input, Conv2D, MaxPooling2D, LSTM, Flatten, Dense, Reshape, Bidirectional, Dropout, BatchNormalization\n",
    "from tensorflow.keras.optimizers import Adam\n",
    "from tensorflow.keras.callbacks import EarlyStopping\n",
    "from tensorflow.keras.preprocessing.image import ImageDataGenerator\n",
    "from tensorflow.keras.regularizers import l2\n",
    "from torch.optim import AdamW\n",
    "\n",
    "from transformers import (\n",
    "    BertTokenizerFast, \n",
    "    BertConfig, \n",
    "    BertForMaskedLM, \n",
    "    AdamW, \n",
    "    Trainer, \n",
    "    TrainingArguments, \n",
    "    DataCollatorForSeq2Seq\n",
    ")\n",
    "import torch\n",
    "from torch.utils.data import Dataset\n",
    "\n",
    "from tokenizers import Tokenizer\n",
    "from tokenizers.models import WordLevel\n",
    "from tokenizers.pre_tokenizers import Whitespace\n",
    "from tokenizers.trainers import WordLevelTrainer\n",
    "\n",
    "os.environ['TF_CPP_MIN_LOG_LEVEL'] = '2'"
   ]
  },
  {
   "cell_type": "markdown",
   "metadata": {},
   "source": [
    "# Start"
   ]
  },
  {
   "cell_type": "code",
   "execution_count": 3,
   "metadata": {
    "execution": {
     "iopub.execute_input": "2024-11-07T08:56:39.764962Z",
     "iopub.status.busy": "2024-11-07T08:56:39.764353Z",
     "iopub.status.idle": "2024-11-07T08:56:39.796979Z",
     "shell.execute_reply": "2024-11-07T08:56:39.796124Z",
     "shell.execute_reply.started": "2024-11-07T08:56:39.764913Z"
    },
    "trusted": true
   },
   "outputs": [
    {
     "data": {
      "text/html": [
       "<div>\n",
       "<style scoped>\n",
       "    .dataframe tbody tr th:only-of-type {\n",
       "        vertical-align: middle;\n",
       "    }\n",
       "\n",
       "    .dataframe tbody tr th {\n",
       "        vertical-align: top;\n",
       "    }\n",
       "\n",
       "    .dataframe thead th {\n",
       "        text-align: right;\n",
       "    }\n",
       "</style>\n",
       "<table border=\"1\" class=\"dataframe\">\n",
       "  <thead>\n",
       "    <tr style=\"text-align: right;\">\n",
       "      <th></th>\n",
       "      <th>IMAGE</th>\n",
       "      <th>MEDICINE_NAME</th>\n",
       "      <th>GENERIC_NAME</th>\n",
       "    </tr>\n",
       "  </thead>\n",
       "  <tbody>\n",
       "    <tr>\n",
       "      <th>0</th>\n",
       "      <td>0.png</td>\n",
       "      <td>Aceta</td>\n",
       "      <td>Paracetamol</td>\n",
       "    </tr>\n",
       "    <tr>\n",
       "      <th>1</th>\n",
       "      <td>1.png</td>\n",
       "      <td>Aceta</td>\n",
       "      <td>Paracetamol</td>\n",
       "    </tr>\n",
       "    <tr>\n",
       "      <th>2</th>\n",
       "      <td>2.png</td>\n",
       "      <td>Aceta</td>\n",
       "      <td>Paracetamol</td>\n",
       "    </tr>\n",
       "    <tr>\n",
       "      <th>3</th>\n",
       "      <td>3.png</td>\n",
       "      <td>Aceta</td>\n",
       "      <td>Paracetamol</td>\n",
       "    </tr>\n",
       "    <tr>\n",
       "      <th>4</th>\n",
       "      <td>4.png</td>\n",
       "      <td>Aceta</td>\n",
       "      <td>Paracetamol</td>\n",
       "    </tr>\n",
       "  </tbody>\n",
       "</table>\n",
       "</div>"
      ],
      "text/plain": [
       "   IMAGE MEDICINE_NAME GENERIC_NAME\n",
       "0  0.png         Aceta  Paracetamol\n",
       "1  1.png         Aceta  Paracetamol\n",
       "2  2.png         Aceta  Paracetamol\n",
       "3  3.png         Aceta  Paracetamol\n",
       "4  4.png         Aceta  Paracetamol"
      ]
     },
     "execution_count": 3,
     "metadata": {},
     "output_type": "execute_result"
    }
   ],
   "source": [
    "df=pd.read_csv('dataset/Training/training_labels.csv')\n",
    "\n",
    "df.head()"
   ]
  },
  {
   "cell_type": "code",
   "execution_count": 4,
   "metadata": {
    "execution": {
     "iopub.execute_input": "2024-11-07T08:56:39.799729Z",
     "iopub.status.busy": "2024-11-07T08:56:39.799411Z",
     "iopub.status.idle": "2024-11-07T08:56:39.827739Z",
     "shell.execute_reply": "2024-11-07T08:56:39.826906Z",
     "shell.execute_reply.started": "2024-11-07T08:56:39.799697Z"
    },
    "trusted": true
   },
   "outputs": [
    {
     "data": {
      "text/plain": [
       "array([[255, 255, 255, ..., 255, 255, 255],\n",
       "       [255, 255, 255, ..., 255, 255, 255],\n",
       "       [255, 255, 255, ..., 255, 255, 255],\n",
       "       ...,\n",
       "       [255, 255, 255, ..., 255, 255, 255],\n",
       "       [255, 255, 255, ..., 255, 255, 255],\n",
       "       [255, 255, 255, ..., 255, 255, 255]], dtype=uint8)"
      ]
     },
     "execution_count": 4,
     "metadata": {},
     "output_type": "execute_result"
    }
   ],
   "source": [
    "img=cv2.imread('dataset/Training/training_words/0.png',cv2.IMREAD_GRAYSCALE)\n",
    "\n",
    "img"
   ]
  },
  {
   "cell_type": "code",
   "execution_count": 5,
   "metadata": {
    "execution": {
     "iopub.execute_input": "2024-11-07T08:56:39.828978Z",
     "iopub.status.busy": "2024-11-07T08:56:39.828680Z",
     "iopub.status.idle": "2024-11-07T08:56:40.127571Z",
     "shell.execute_reply": "2024-11-07T08:56:40.126635Z",
     "shell.execute_reply.started": "2024-11-07T08:56:39.828947Z"
    },
    "trusted": true
   },
   "outputs": [
    {
     "data": {
      "text/plain": [
       "<matplotlib.image.AxesImage at 0x15dc05e20>"
      ]
     },
     "execution_count": 5,
     "metadata": {},
     "output_type": "execute_result"
    },
    {
     "data": {
      "image/png": "[encoded data removed]",
      "text/plain": [
       "<Figure size 640x480 with 1 Axes>"
      ]
     },
     "metadata": {},
     "output_type": "display_data"
    }
   ],
   "source": [
    "plt.imshow(img,cmap='gray')"
   ]
  },
  {
   "cell_type": "markdown",
   "metadata": {},
   "source": [
    "# Data Collection"
   ]
  },
  {
   "cell_type": "code",
   "execution_count": 6,
   "metadata": {
    "execution": {
     "iopub.execute_input": "2024-11-07T08:56:40.129780Z",
     "iopub.status.busy": "2024-11-07T08:56:40.129068Z",
     "iopub.status.idle": "2024-11-07T08:56:40.134443Z",
     "shell.execute_reply": "2024-11-07T08:56:40.133358Z",
     "shell.execute_reply.started": "2024-11-07T08:56:40.129729Z"
    },
    "trusted": true
   },
   "outputs": [],
   "source": [
    "def one_hot_encoded_Y(df):\n",
    "    return pd.get_dummies(df['MEDICINE_NAME'],dtype=int)"
   ]
  },
  {
   "cell_type": "code",
   "execution_count": 7,
   "metadata": {
    "execution": {
     "iopub.execute_input": "2024-11-07T08:56:40.136086Z",
     "iopub.status.busy": "2024-11-07T08:56:40.135729Z",
     "iopub.status.idle": "2024-11-07T08:56:40.146147Z",
     "shell.execute_reply": "2024-11-07T08:56:40.145339Z",
     "shell.execute_reply.started": "2024-11-07T08:56:40.136050Z"
    },
    "trusted": true
   },
   "outputs": [],
   "source": [
    "def load_images(image_paths,target_size=(128,32)): # width,height\n",
    "\n",
    "    imagess=[]\n",
    "\n",
    "    for path in image_paths:\n",
    "\n",
    "        img=cv2.imread(path)\n",
    "\n",
    "        img=cv2.resize(img,target_size)\n",
    "\n",
    "        img=img.astype('float32')/255.0\n",
    "\n",
    "        imagess.append(img)\n",
    "\n",
    "    imagess=np.array(imagess)\n",
    "    \n",
    "    imagess=imagess.reshape(imagess.shape[0],32,128,3)\n",
    "\n",
    "    return imagess"
   ]
  },
  {
   "cell_type": "code",
   "execution_count": 11,
   "metadata": {
    "execution": {
     "iopub.execute_input": "2024-11-07T08:56:40.147434Z",
     "iopub.status.busy": "2024-11-07T08:56:40.147151Z",
     "iopub.status.idle": "2024-11-07T08:56:40.157106Z",
     "shell.execute_reply": "2024-11-07T08:56:40.156266Z",
     "shell.execute_reply.started": "2024-11-07T08:56:40.147402Z"
    },
    "trusted": true
   },
   "outputs": [],
   "source": [
    "def XY(folder):\n",
    "    lower=folder.lower()\n",
    "    \n",
    "    df=pd.read_csv(f\"dataset/{folder}/{lower}_labels.csv\")\n",
    "    \n",
    "    Y=one_hot_encoded_Y(df)\n",
    "    \n",
    "    image_folder=f\"dataset/{folder}/{lower}_words/\"\n",
    "    image_paths=[os.path.join(image_folder,filename) for filename in df['IMAGE']]\n",
    "\n",
    "    X=load_images(image_paths)\n",
    "\n",
    "    return X,Y"
   ]
  },
  {
   "cell_type": "markdown",
   "metadata": {},
   "source": [
    "# OCR Model with charachter level BERT "
   ]
  },
  {
   "cell_type": "code",
   "execution_count": 22,
   "metadata": {
    "execution": {
     "iopub.execute_input": "2024-11-07T08:57:51.166667Z",
     "iopub.status.busy": "2024-11-07T08:57:51.166337Z",
     "iopub.status.idle": "2024-11-07T08:57:51.172051Z",
     "shell.execute_reply": "2024-11-07T08:57:51.171142Z",
     "shell.execute_reply.started": "2024-11-07T08:57:51.166633Z"
    },
    "trusted": true
   },
   "outputs": [],
   "source": [
    "def preprocess_image(image_path):\n",
    "    \n",
    "    img = cv2.imread(image_path, cv2.IMREAD_GRAYSCALE)\n",
    "    \n",
    "    img = cv2.resize(img, (128, 32))  \n",
    "\n",
    "    _, img = cv2.threshold(img, 150, 255, cv2.THRESH_BINARY + cv2.THRESH_OTSU)\n",
    "    \n",
    "    return img"
   ]
  },
  {
   "cell_type": "code",
   "execution_count": 20,
   "metadata": {
    "execution": {
     "iopub.execute_input": "2024-11-07T08:57:51.173494Z",
     "iopub.status.busy": "2024-11-07T08:57:51.173205Z",
     "iopub.status.idle": "2024-11-07T08:57:51.183217Z",
     "shell.execute_reply": "2024-11-07T08:57:51.182363Z",
     "shell.execute_reply.started": "2024-11-07T08:57:51.173462Z"
    },
    "trusted": true
   },
   "outputs": [],
   "source": [
    "def extract_text_with_ocr(image_path):\n",
    "    preprocessed_image = preprocess_image(image_path)\n",
    "    \n",
    "    img = Image.fromarray(preprocessed_image)\n",
    "    \n",
    "    extracted_text = pytesseract.image_to_string(img)\n",
    "    \n",
    "    return extracted_text"
   ]
  },
  {
   "cell_type": "code",
   "execution_count": 25,
   "metadata": {
    "execution": {
     "iopub.execute_input": "2024-11-07T08:57:51.184733Z",
     "iopub.status.busy": "2024-11-07T08:57:51.184310Z",
     "iopub.status.idle": "2024-11-07T08:57:51.192234Z",
     "shell.execute_reply": "2024-11-07T08:57:51.191398Z",
     "shell.execute_reply.started": "2024-11-07T08:57:51.184689Z"
    },
    "trusted": true
   },
   "outputs": [],
   "source": [
    "def XYocr(folder):\n",
    "    lower=folder.lower()\n",
    "    df=pd.read_csv(f\"dataset/{folder}/{lower}_labels.csv\")\n",
    "    Y=df['MEDICINE_NAME']\n",
    "\n",
    "    image_folder=f\"dataset/{folder}/{lower}_words/\"\n",
    "    image_paths=[os.path.join(image_folder,filename) for filename in df['IMAGE']]\n",
    "    X = [extract_text_with_ocr(image_path) for image_path in image_paths]\n",
    "\n",
    "    return X,Y"
   ]
  },
  {
   "cell_type": "code",
   "execution_count": 26,
   "metadata": {
    "execution": {
     "iopub.execute_input": "2024-11-07T08:57:51.193594Z",
     "iopub.status.busy": "2024-11-07T08:57:51.193278Z",
     "iopub.status.idle": "2024-11-07T08:59:22.241859Z",
     "shell.execute_reply": "2024-11-07T08:59:22.240955Z",
     "shell.execute_reply.started": "2024-11-07T08:57:51.193544Z"
    },
    "trusted": true
   },
   "outputs": [],
   "source": [
    "xTest,yTest=XYocr(\"Testing\")"
   ]
  },
  {
   "cell_type": "code",
   "execution_count": 27,
   "metadata": {
    "execution": {
     "iopub.execute_input": "2024-11-07T08:59:22.244012Z",
     "iopub.status.busy": "2024-11-07T08:59:22.243257Z",
     "iopub.status.idle": "2024-11-07T08:59:22.250619Z",
     "shell.execute_reply": "2024-11-07T08:59:22.249737Z",
     "shell.execute_reply.started": "2024-11-07T08:59:22.243962Z"
    },
    "trusted": true
   },
   "outputs": [
    {
     "data": {
      "text/plain": [
       "780"
      ]
     },
     "execution_count": 27,
     "metadata": {},
     "output_type": "execute_result"
    }
   ],
   "source": [
    "count_non_form_feed = sum(1 for value in xTest if value != '\\x0c')\n",
    "count_non_form_feed"
   ]
  },
  {
   "cell_type": "code",
   "execution_count": 28,
   "metadata": {
    "execution": {
     "iopub.execute_input": "2024-11-07T08:59:22.251968Z",
     "iopub.status.busy": "2024-11-07T08:59:22.251656Z",
     "iopub.status.idle": "2024-11-07T08:59:22.268397Z",
     "shell.execute_reply": "2024-11-07T08:59:22.267521Z",
     "shell.execute_reply.started": "2024-11-07T08:59:22.251934Z"
    },
    "trusted": true
   },
   "outputs": [
    {
     "data": {
      "text/plain": [
       "780"
      ]
     },
     "execution_count": 28,
     "metadata": {},
     "output_type": "execute_result"
    }
   ],
   "source": [
    "len(xTest)"
   ]
  },
  {
   "cell_type": "code",
   "execution_count": 29,
   "metadata": {
    "execution": {
     "iopub.execute_input": "2024-11-07T08:59:22.269794Z",
     "iopub.status.busy": "2024-11-07T08:59:22.269505Z",
     "iopub.status.idle": "2024-11-07T08:59:22.279026Z",
     "shell.execute_reply": "2024-11-07T08:59:22.278185Z",
     "shell.execute_reply.started": "2024-11-07T08:59:22.269762Z"
    },
    "trusted": true
   },
   "outputs": [
    {
     "name": "stdout",
     "output_type": "stream",
     "text": [
      "foeehan\n",
      "\n",
      "Baclon\n"
     ]
    }
   ],
   "source": [
    "print(xTest[124])\n",
    "print(yTest[124])"
   ]
  },
  {
   "cell_type": "code",
   "execution_count": 30,
   "metadata": {
    "execution": {
     "iopub.execute_input": "2024-11-07T08:59:22.280673Z",
     "iopub.status.busy": "2024-11-07T08:59:22.280148Z",
     "iopub.status.idle": "2024-11-07T09:06:55.129601Z",
     "shell.execute_reply": "2024-11-07T09:06:55.128695Z",
     "shell.execute_reply.started": "2024-11-07T08:59:22.280639Z"
    },
    "trusted": true
   },
   "outputs": [],
   "source": [
    "xTrain,yTrain=XYocr(\"Training\")\n",
    "xVal,yVal=XYocr(\"Validation\")"
   ]
  },
  {
   "cell_type": "code",
   "execution_count": 36,
   "metadata": {
    "execution": {
     "iopub.execute_input": "2024-11-07T09:06:55.131309Z",
     "iopub.status.busy": "2024-11-07T09:06:55.130926Z",
     "iopub.status.idle": "2024-11-07T09:08:14.651093Z",
     "shell.execute_reply": "2024-11-07T09:08:14.650071Z",
     "shell.execute_reply.started": "2024-11-07T09:06:55.131266Z"
    },
    "trusted": true
   },
   "outputs": [
    {
     "ename": "ImportError",
     "evalue": "Using the `Trainer` with `PyTorch` requires `accelerate>=0.26.0`: Please run `pip install transformers[torch]` or `pip install 'accelerate>={ACCELERATE_MIN_VERSION}'`",
     "output_type": "error",
     "traceback": [
      "\u001b[0;31m---------------------------------------------------------------------------\u001b[0m",
      "\u001b[0;31mImportError\u001b[0m                               Traceback (most recent call last)",
      "Cell \u001b[0;32mIn[36], line 78\u001b[0m\n\u001b[1;32m     75\u001b[0m optimizer \u001b[38;5;241m=\u001b[39m AdamW(model\u001b[38;5;241m.\u001b[39mparameters(), lr\u001b[38;5;241m=\u001b[39m\u001b[38;5;241m0.0001\u001b[39m, weight_decay\u001b[38;5;241m=\u001b[39m\u001b[38;5;241m0.01\u001b[39m)  \u001b[38;5;66;03m# Updated\u001b[39;00m\n\u001b[1;32m     77\u001b[0m \u001b[38;5;66;03m# Updated TrainingArguments with necessary logging and reporting fixes\u001b[39;00m\n\u001b[0;32m---> 78\u001b[0m training_args \u001b[38;5;241m=\u001b[39m \u001b[43mTrainingArguments\u001b[49m\u001b[43m(\u001b[49m\n\u001b[1;32m     79\u001b[0m \u001b[43m    \u001b[49m\u001b[43moutput_dir\u001b[49m\u001b[38;5;241;43m=\u001b[39;49m\u001b[38;5;124;43m\"\u001b[39;49m\u001b[38;5;124;43moutput_model\u001b[39;49m\u001b[38;5;124;43m\"\u001b[39;49m\u001b[43m,\u001b[49m\u001b[43m  \u001b[49m\u001b[38;5;66;43;03m# Save model outputs here\u001b[39;49;00m\n\u001b[1;32m     80\u001b[0m \u001b[43m    \u001b[49m\u001b[43mnum_train_epochs\u001b[49m\u001b[38;5;241;43m=\u001b[39;49m\u001b[38;5;241;43m3\u001b[39;49m\u001b[43m,\u001b[49m\n\u001b[1;32m     81\u001b[0m \u001b[43m    \u001b[49m\u001b[43mper_device_train_batch_size\u001b[49m\u001b[38;5;241;43m=\u001b[39;49m\u001b[38;5;241;43m4\u001b[39;49m\u001b[43m,\u001b[49m\n\u001b[1;32m     82\u001b[0m \u001b[43m    \u001b[49m\u001b[43mper_device_eval_batch_size\u001b[49m\u001b[38;5;241;43m=\u001b[39;49m\u001b[38;5;241;43m4\u001b[39;49m\u001b[43m,\u001b[49m\n\u001b[1;32m     83\u001b[0m \u001b[43m    \u001b[49m\u001b[43meval_strategy\u001b[49m\u001b[38;5;241;43m=\u001b[39;49m\u001b[38;5;124;43m\"\u001b[39;49m\u001b[38;5;124;43mepoch\u001b[39;49m\u001b[38;5;124;43m\"\u001b[39;49m\u001b[43m,\u001b[49m\u001b[43m  \u001b[49m\u001b[38;5;66;43;03m# Evaluate at the end of each epoch\u001b[39;49;00m\n\u001b[1;32m     84\u001b[0m \u001b[43m    \u001b[49m\u001b[43msave_strategy\u001b[49m\u001b[38;5;241;43m=\u001b[39;49m\u001b[38;5;124;43m\"\u001b[39;49m\u001b[38;5;124;43mepoch\u001b[39;49m\u001b[38;5;124;43m\"\u001b[39;49m\u001b[43m,\u001b[49m\u001b[43m  \u001b[49m\u001b[38;5;66;43;03m# Save model at the end of each epoch\u001b[39;49;00m\n\u001b[1;32m     85\u001b[0m \u001b[43m    \u001b[49m\u001b[43mlogging_dir\u001b[49m\u001b[38;5;241;43m=\u001b[39;49m\u001b[38;5;28;43;01mNone\u001b[39;49;00m\u001b[43m,\u001b[49m\u001b[43m  \u001b[49m\u001b[38;5;66;43;03m# No need to log\u001b[39;49;00m\n\u001b[1;32m     86\u001b[0m \u001b[43m    \u001b[49m\u001b[43mlogging_steps\u001b[49m\u001b[38;5;241;43m=\u001b[39;49m\u001b[38;5;241;43m1\u001b[39;49m\u001b[43m,\u001b[49m\u001b[43m  \u001b[49m\u001b[38;5;66;43;03m# Reduced logging\u001b[39;49;00m\n\u001b[1;32m     87\u001b[0m \u001b[43m    \u001b[49m\u001b[43mlogging_first_step\u001b[49m\u001b[38;5;241;43m=\u001b[39;49m\u001b[38;5;28;43;01mFalse\u001b[39;49;00m\u001b[43m,\u001b[49m\u001b[43m  \u001b[49m\u001b[38;5;66;43;03m# Do not log first step\u001b[39;49;00m\n\u001b[1;32m     88\u001b[0m \u001b[43m    \u001b[49m\u001b[43mreport_to\u001b[49m\u001b[38;5;241;43m=\u001b[39;49m\u001b[38;5;124;43m\"\u001b[39;49m\u001b[38;5;124;43mnone\u001b[39;49m\u001b[38;5;124;43m\"\u001b[39;49m\u001b[43m,\u001b[49m\u001b[43m  \u001b[49m\u001b[38;5;66;43;03m# Disable WANDB and other reporting\u001b[39;49;00m\n\u001b[1;32m     89\u001b[0m \u001b[43m    \u001b[49m\u001b[43msave_steps\u001b[49m\u001b[38;5;241;43m=\u001b[39;49m\u001b[38;5;241;43m10\u001b[39;49m\u001b[43m,\u001b[49m\n\u001b[1;32m     90\u001b[0m \u001b[43m    \u001b[49m\u001b[43msave_total_limit\u001b[49m\u001b[38;5;241;43m=\u001b[39;49m\u001b[38;5;241;43m1\u001b[39;49m\u001b[43m,\u001b[49m\u001b[43m  \u001b[49m\u001b[38;5;66;43;03m# Keep only the most recent model\u001b[39;49;00m\n\u001b[1;32m     91\u001b[0m \u001b[43m    \u001b[49m\u001b[43mload_best_model_at_end\u001b[49m\u001b[38;5;241;43m=\u001b[39;49m\u001b[38;5;28;43;01mTrue\u001b[39;49;00m\u001b[43m,\u001b[49m\u001b[43m  \u001b[49m\u001b[38;5;66;43;03m# Load the best model at the end\u001b[39;49;00m\n\u001b[1;32m     92\u001b[0m \u001b[43m    \u001b[49m\u001b[43mdisable_tqdm\u001b[49m\u001b[38;5;241;43m=\u001b[39;49m\u001b[38;5;28;43;01mFalse\u001b[39;49;00m\u001b[43m,\u001b[49m\u001b[43m  \u001b[49m\u001b[38;5;66;43;03m# Keep tqdm progress bar\u001b[39;49;00m\n\u001b[1;32m     93\u001b[0m \u001b[43m    \u001b[49m\u001b[43mfp16\u001b[49m\u001b[38;5;241;43m=\u001b[39;49m\u001b[38;5;28;43;01mFalse\u001b[39;49;00m\u001b[43m  \u001b[49m\u001b[38;5;66;43;03m# Disable automatic mixed precision\u001b[39;49;00m\n\u001b[1;32m     94\u001b[0m \u001b[43m)\u001b[49m\n\u001b[1;32m     96\u001b[0m \u001b[38;5;66;03m# Suppress FutureWarnings (Optional)\u001b[39;00m\n\u001b[1;32m     97\u001b[0m \u001b[38;5;28;01mimport\u001b[39;00m\u001b[38;5;250m \u001b[39m\u001b[38;5;21;01mwarnings\u001b[39;00m\n",
      "File \u001b[0;32m<string>:134\u001b[0m, in \u001b[0;36m__init__\u001b[0;34m(self, output_dir, overwrite_output_dir, do_train, do_eval, do_predict, eval_strategy, prediction_loss_only, per_device_train_batch_size, per_device_eval_batch_size, per_gpu_train_batch_size, per_gpu_eval_batch_size, gradient_accumulation_steps, eval_accumulation_steps, eval_delay, torch_empty_cache_steps, learning_rate, weight_decay, adam_beta1, adam_beta2, adam_epsilon, max_grad_norm, num_train_epochs, max_steps, lr_scheduler_type, lr_scheduler_kwargs, warmup_ratio, warmup_steps, log_level, log_level_replica, log_on_each_node, logging_dir, logging_strategy, logging_first_step, logging_steps, logging_nan_inf_filter, save_strategy, save_steps, save_total_limit, save_safetensors, save_on_each_node, save_only_model, restore_callback_states_from_checkpoint, no_cuda, use_cpu, use_mps_device, seed, data_seed, jit_mode_eval, use_ipex, bf16, fp16, fp16_opt_level, half_precision_backend, bf16_full_eval, fp16_full_eval, tf32, local_rank, ddp_backend, tpu_num_cores, tpu_metrics_debug, debug, dataloader_drop_last, eval_steps, dataloader_num_workers, dataloader_prefetch_factor, past_index, run_name, disable_tqdm, remove_unused_columns, label_names, load_best_model_at_end, metric_for_best_model, greater_is_better, ignore_data_skip, fsdp, fsdp_min_num_params, fsdp_config, fsdp_transformer_layer_cls_to_wrap, accelerator_config, deepspeed, label_smoothing_factor, optim, optim_args, adafactor, group_by_length, length_column_name, report_to, ddp_find_unused_parameters, ddp_bucket_cap_mb, ddp_broadcast_buffers, dataloader_pin_memory, dataloader_persistent_workers, skip_memory_metrics, use_legacy_prediction_loop, push_to_hub, resume_from_checkpoint, hub_model_id, hub_strategy, hub_token, hub_private_repo, hub_always_push, gradient_checkpointing, gradient_checkpointing_kwargs, include_inputs_for_metrics, include_for_metrics, eval_do_concat_batches, fp16_backend, evaluation_strategy, push_to_hub_model_id, push_to_hub_organization, push_to_hub_token, mp_parameters, auto_find_batch_size, full_determinism, torchdynamo, ray_scope, ddp_timeout, torch_compile, torch_compile_backend, torch_compile_mode, dispatch_batches, split_batches, include_tokens_per_second, include_num_input_tokens_seen, neftune_noise_alpha, optim_target_modules, batch_eval_metrics, eval_on_start, use_liger_kernel, eval_use_gather_object, average_tokens_across_devices)\u001b[0m\n",
      "File \u001b[0;32m~/Desktop/HandwrittenDigits/CNN/venv/lib/python3.8/site-packages/transformers/training_args.py:1773\u001b[0m, in \u001b[0;36mTrainingArguments.__post_init__\u001b[0;34m(self)\u001b[0m\n\u001b[1;32m   1771\u001b[0m \u001b[38;5;66;03m# Initialize device before we proceed\u001b[39;00m\n\u001b[1;32m   1772\u001b[0m \u001b[38;5;28;01mif\u001b[39;00m \u001b[38;5;28mself\u001b[39m\u001b[38;5;241m.\u001b[39mframework \u001b[38;5;241m==\u001b[39m \u001b[38;5;124m\"\u001b[39m\u001b[38;5;124mpt\u001b[39m\u001b[38;5;124m\"\u001b[39m \u001b[38;5;129;01mand\u001b[39;00m is_torch_available():\n\u001b[0;32m-> 1773\u001b[0m     \u001b[38;5;28;43mself\u001b[39;49m\u001b[38;5;241;43m.\u001b[39;49m\u001b[43mdevice\u001b[49m\n\u001b[1;32m   1775\u001b[0m \u001b[38;5;66;03m# Disable average tokens when using single device\u001b[39;00m\n\u001b[1;32m   1776\u001b[0m \u001b[38;5;28;01mif\u001b[39;00m \u001b[38;5;28mself\u001b[39m\u001b[38;5;241m.\u001b[39maverage_tokens_across_devices:\n",
      "File \u001b[0;32m~/Desktop/HandwrittenDigits/CNN/venv/lib/python3.8/site-packages/transformers/training_args.py:2299\u001b[0m, in \u001b[0;36mTrainingArguments.device\u001b[0;34m(self)\u001b[0m\n\u001b[1;32m   2295\u001b[0m \u001b[38;5;250m\u001b[39m\u001b[38;5;124;03m\"\"\"\u001b[39;00m\n\u001b[1;32m   2296\u001b[0m \u001b[38;5;124;03mThe device used by this process.\u001b[39;00m\n\u001b[1;32m   2297\u001b[0m \u001b[38;5;124;03m\"\"\"\u001b[39;00m\n\u001b[1;32m   2298\u001b[0m requires_backends(\u001b[38;5;28mself\u001b[39m, [\u001b[38;5;124m\"\u001b[39m\u001b[38;5;124mtorch\u001b[39m\u001b[38;5;124m\"\u001b[39m])\n\u001b[0;32m-> 2299\u001b[0m \u001b[38;5;28;01mreturn\u001b[39;00m \u001b[38;5;28;43mself\u001b[39;49m\u001b[38;5;241;43m.\u001b[39;49m\u001b[43m_setup_devices\u001b[49m\n",
      "File \u001b[0;32m~/Desktop/HandwrittenDigits/CNN/venv/lib/python3.8/site-packages/transformers/utils/generic.py:60\u001b[0m, in \u001b[0;36mcached_property.__get__\u001b[0;34m(self, obj, objtype)\u001b[0m\n\u001b[1;32m     58\u001b[0m cached \u001b[38;5;241m=\u001b[39m \u001b[38;5;28mgetattr\u001b[39m(obj, attr, \u001b[38;5;28;01mNone\u001b[39;00m)\n\u001b[1;32m     59\u001b[0m \u001b[38;5;28;01mif\u001b[39;00m cached \u001b[38;5;129;01mis\u001b[39;00m \u001b[38;5;28;01mNone\u001b[39;00m:\n\u001b[0;32m---> 60\u001b[0m     cached \u001b[38;5;241m=\u001b[39m \u001b[38;5;28;43mself\u001b[39;49m\u001b[38;5;241;43m.\u001b[39;49m\u001b[43mfget\u001b[49m\u001b[43m(\u001b[49m\u001b[43mobj\u001b[49m\u001b[43m)\u001b[49m\n\u001b[1;32m     61\u001b[0m     \u001b[38;5;28msetattr\u001b[39m(obj, attr, cached)\n\u001b[1;32m     62\u001b[0m \u001b[38;5;28;01mreturn\u001b[39;00m cached\n",
      "File \u001b[0;32m~/Desktop/HandwrittenDigits/CNN/venv/lib/python3.8/site-packages/transformers/training_args.py:2172\u001b[0m, in \u001b[0;36mTrainingArguments._setup_devices\u001b[0;34m(self)\u001b[0m\n\u001b[1;32m   2170\u001b[0m \u001b[38;5;28;01mif\u001b[39;00m \u001b[38;5;129;01mnot\u001b[39;00m is_sagemaker_mp_enabled():\n\u001b[1;32m   2171\u001b[0m     \u001b[38;5;28;01mif\u001b[39;00m \u001b[38;5;129;01mnot\u001b[39;00m is_accelerate_available():\n\u001b[0;32m-> 2172\u001b[0m         \u001b[38;5;28;01mraise\u001b[39;00m \u001b[38;5;167;01mImportError\u001b[39;00m(\n\u001b[1;32m   2173\u001b[0m             \u001b[38;5;124mf\u001b[39m\u001b[38;5;124m\"\u001b[39m\u001b[38;5;124mUsing the `Trainer` with `PyTorch` requires `accelerate>=\u001b[39m\u001b[38;5;132;01m{\u001b[39;00mACCELERATE_MIN_VERSION\u001b[38;5;132;01m}\u001b[39;00m\u001b[38;5;124m`: \u001b[39m\u001b[38;5;124m\"\u001b[39m\n\u001b[1;32m   2174\u001b[0m             \u001b[38;5;124m\"\u001b[39m\u001b[38;5;124mPlease run `pip install transformers[torch]` or `pip install \u001b[39m\u001b[38;5;124m'\u001b[39m\u001b[38;5;124maccelerate>=\u001b[39m\u001b[38;5;132;01m{ACCELERATE_MIN_VERSION}\u001b[39;00m\u001b[38;5;124m'\u001b[39m\u001b[38;5;124m`\u001b[39m\u001b[38;5;124m\"\u001b[39m\n\u001b[1;32m   2175\u001b[0m         )\n\u001b[1;32m   2176\u001b[0m \u001b[38;5;66;03m# We delay the init of `PartialState` to the end for clarity\u001b[39;00m\n\u001b[1;32m   2177\u001b[0m accelerator_state_kwargs \u001b[38;5;241m=\u001b[39m {\u001b[38;5;124m\"\u001b[39m\u001b[38;5;124menabled\u001b[39m\u001b[38;5;124m\"\u001b[39m: \u001b[38;5;28;01mTrue\u001b[39;00m, \u001b[38;5;124m\"\u001b[39m\u001b[38;5;124muse_configured_state\u001b[39m\u001b[38;5;124m\"\u001b[39m: \u001b[38;5;28;01mFalse\u001b[39;00m}\n",
      "\u001b[0;31mImportError\u001b[0m: Using the `Trainer` with `PyTorch` requires `accelerate>=0.26.0`: Please run `pip install transformers[torch]` or `pip install 'accelerate>={ACCELERATE_MIN_VERSION}'`"
     ]
    }
   ],
   "source": [
    "# Define your custom vocabulary (character-level)\n",
    "vocab_list = list(\"abcdefghijklmnopqrstuvwxyzABCDEFGHIJKLMNOPQRSTUVWXYZ .,!?\")  \n",
    "vocab = {char: i for i, char in enumerate(vocab_list, start=1)} \n",
    "vocab[\"[PAD]\"] = 0  # Add padding token\n",
    "vocab[\"[MASK]\"] = len(vocab) + 1  # Mask token\n",
    "vocab[\"[CLS]\"] = len(vocab) + 2  # CLS token\n",
    "vocab[\"[SEP]\"] = len(vocab) + 3  # SEP token\n",
    "vocab[\"[UNK]\"] = len(vocab) + 4  # Unknown token\n",
    "\n",
    "# Save the vocab to a file\n",
    "vocab_file = \"vocab.txt\"\n",
    "with open(vocab_file, 'w') as f:\n",
    "    for token in vocab:\n",
    "        f.write(token + \"\\n\")\n",
    "\n",
    "# Initialize the tokenizer with the custom vocabulary\n",
    "tokenizer = BertTokenizerFast(vocab_file=vocab_file)\n",
    "tokenizer.pad_token = \"[PAD]\"\n",
    "tokenizer.mask_token = \"[MASK]\"\n",
    "tokenizer.cls_token = \"[CLS]\"\n",
    "tokenizer.sep_token = \"[SEP]\"\n",
    "tokenizer.unk_token = \"[UNK]\"\n",
    "\n",
    "# Save tokenizer to output directory\n",
    "tokenizer_output_dir = \"output_tokenizer\"\n",
    "os.makedirs(tokenizer_output_dir, exist_ok=True)\n",
    "tokenizer.save_pretrained(tokenizer_output_dir)\n",
    "\n",
    "# Create a custom Dataset class for loading the data\n",
    "class CustomDataset(Dataset):\n",
    "    def __init__(self, x_data, y_data, tokenizer, max_length=128):\n",
    "        self.x_data = x_data\n",
    "        self.y_data = y_data\n",
    "        self.tokenizer = tokenizer\n",
    "        self.max_length = max_length\n",
    "\n",
    "    def __len__(self):\n",
    "        return len(self.x_data)\n",
    "\n",
    "    def __getitem__(self, idx):\n",
    "        x = self.x_data[idx]\n",
    "        y = self.y_data[idx]\n",
    "        \n",
    "        inputs = self.tokenizer(x, truncation=True, padding='max_length', max_length=self.max_length, return_tensors='pt')\n",
    "        labels = self.tokenizer(y, truncation=True, padding='max_length', max_length=self.max_length, return_tensors='pt')\n",
    "        \n",
    "        return {\n",
    "            'input_ids': inputs['input_ids'].squeeze(),\n",
    "            'attention_mask': inputs['attention_mask'].squeeze(),\n",
    "            'labels': labels['input_ids'].squeeze()\n",
    "        }\n",
    "\n",
    "# Prepare datasets\n",
    "train_dataset = CustomDataset(xTrain, yTrain, tokenizer)\n",
    "val_dataset = CustomDataset(xVal, yVal, tokenizer)\n",
    "test_dataset = CustomDataset(xTest, yTest, tokenizer)\n",
    "\n",
    "# Set up BERT model configuration\n",
    "config = BertConfig(\n",
    "    vocab_size=len(vocab), \n",
    "    hidden_size=256,\n",
    "    num_hidden_layers=6,\n",
    "    num_attention_heads=8,\n",
    "    intermediate_size=512,\n",
    "    max_position_embeddings=512\n",
    ")\n",
    "\n",
    "# Initialize the BERT model for masked language modeling\n",
    "model = BertForMaskedLM(config)\n",
    "\n",
    "# Use PyTorch-native AdamW optimizer (instead of deprecated transformers.AdamW)\n",
    "from torch.optim import AdamW  \n",
    "\n",
    "# Set up optimizer\n",
    "optimizer = AdamW(model.parameters(), lr=0.0001, weight_decay=0.01)  # Updated\n",
    "\n",
    "# Updated TrainingArguments with necessary logging and reporting fixes\n",
    "training_args = TrainingArguments(\n",
    "    output_dir=\"output_model\",  # Save model outputs here\n",
    "    num_train_epochs=3,\n",
    "    per_device_train_batch_size=4,\n",
    "    per_device_eval_batch_size=4,\n",
    "    eval_strategy=\"epoch\",  # Evaluate at the end of each epoch\n",
    "    save_strategy=\"epoch\",  # Save model at the end of each epoch\n",
    "    logging_dir=None,  # No need to log\n",
    "    logging_steps=1,  # Reduced logging\n",
    "    logging_first_step=False,  # Do not log first step\n",
    "    report_to=\"none\",  # Disable WANDB and other reporting\n",
    "    save_steps=10,\n",
    "    save_total_limit=1,  # Keep only the most recent model\n",
    "    load_best_model_at_end=True,  # Load the best model at the end\n",
    "    disable_tqdm=False,  # Keep tqdm progress bar\n",
    "    fp16=False  # Disable automatic mixed precision\n",
    ")\n",
    "\n",
    "# Suppress FutureWarnings (Optional)\n",
    "import warnings\n",
    "warnings.filterwarnings(\"ignore\", category=FutureWarning)\n",
    "\n",
    "# Custom function to compute accuracy\n",
    "def compute_accuracy(p):\n",
    "    preds, labels = p\n",
    "    preds = torch.tensor(preds)  # Convert to tensor\n",
    "    preds = torch.argmax(preds, dim=-1)\n",
    "    return {\"accuracy\": accuracy_score(labels.flatten(), preds.flatten())}\n",
    "\n",
    "# Set up Trainer\n",
    "trainer = Trainer(\n",
    "    model=model,\n",
    "    args=training_args,\n",
    "    train_dataset=train_dataset,  # Training dataset\n",
    "    eval_dataset=val_dataset,  # Validation dataset\n",
    "    optimizers=(optimizer, None),\n",
    "    compute_metrics=compute_accuracy\n",
    ")\n",
    "\n",
    "# Train the model with epoch-wise output\n",
    "trainer.train()\n",
    "\n",
    "# Evaluate the model after training on the validation set\n",
    "final_metrics = trainer.evaluate(val_dataset)\n",
    "final_accuracy = final_metrics[\"eval_accuracy\"]\n",
    "final_loss = final_metrics[\"eval_loss\"]\n",
    "\n",
    "# Evaluate the model on the test set\n",
    "test_metrics = trainer.evaluate(test_dataset)\n",
    "test_accuracy = test_metrics[\"eval_accuracy\"]\n",
    "test_loss = test_metrics[\"eval_loss\"]\n",
    "\n",
    "# Display epoch-wise output and final test results\n",
    "print(f\"Final Test Accuracy: {test_accuracy:.4f}\")\n",
    "print(f\"Final Test Loss: {test_loss:.4f}\")\n"
   ]
  }
 ],
 "metadata": {
  "kaggle": {
   "accelerator": "nvidiaTeslaT4",
   "dataSources": [
    {
     "datasetId": 4982232,
     "sourceId": 8378585,
     "sourceType": "datasetVersion"
    },
    {
     "datasetId": 6029940,
     "sourceId": 9831500,
     "sourceType": "datasetVersion"
    }
   ],
   "dockerImageVersionId": 30787,
   "isGpuEnabled": true,
   "isInternetEnabled": false,
   "language": "python",
   "sourceType": "notebook"
  },
  "kernelspec": {
   "display_name": "venv",
   "language": "python",
   "name": "python3"
  },
  "language_info": {
   "codemirror_mode": {
    "name": "ipython",
    "version": 3
   },
   "file_extension": ".py",
   "mimetype": "text/x-python",
   "name": "python",
   "nbconvert_exporter": "python",
   "pygments_lexer": "ipython3",
   "version": "3.8.10"
  }
 },
 "nbformat": 4,
 "nbformat_minor": 4
}
