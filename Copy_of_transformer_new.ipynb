{
  "cells": [
    {
      "cell_type": "code",
      "source": [
        "from google.colab import drive\n",
        "drive.mount('/content/drive', force_remount=True)\n",
        "\n",
        "import os\n",
        "import json\n",
        "import numpy as np\n",
        "import cv2\n",
        "import torch\n",
        "from torch.utils.data import Dataset, DataLoader\n",
        "from transformers import TrOCRProcessor\n",
        "from PIL import Image\n",
        "import torchvision.transforms as T\n",
        "import torch.optim as optim\n",
        "import torch.optim.lr_scheduler as lr_scheduler\n",
        "from torch.amp import GradScaler, autocast\n",
        "from transformers import VisionEncoderDecoderModel\n",
        "\n",
        "device = torch.device('cuda' if torch.cuda.is_available() else 'cpu')\n",
        "print(\"Using device:\", device)"
      ],
      "metadata": {
        "colab": {
          "base_uri": "https://localhost:8080/"
        },
        "id": "RzX-NdG894p6",
        "outputId": "74f11f76-0efc-4819-9863-3af29a1ca389"
      },
      "id": "RzX-NdG894p6",
      "execution_count": 90,
      "outputs": [
        {
          "output_type": "stream",
          "name": "stdout",
          "text": [
            "Mounted at /content/drive\n",
            "Using device: cuda\n"
          ]
        }
      ]
    },
    {
      "cell_type": "code",
      "source": [
        "def preprocess_image(image_path):\n",
        "    img = cv2.imread(image_path, cv2.IMREAD_GRAYSCALE)\n",
        "    if img is None:\n",
        "        raise FileNotFoundError(f\"Image not found/unreadable\")\n",
        "    blurred = cv2.medianBlur(img, 3)\n",
        "    _, binary = cv2.threshold(blurred, 0, 255, cv2.THRESH_BINARY + cv2.THRESH_OTSU)\n",
        "    black_pixels = np.sum(binary == 0)\n",
        "    white_pixels = np.sum(binary == 255)\n",
        "    if black_pixels < white_pixels:\n",
        "        binary = 255 - binary\n",
        "    rgb_image = cv2.cvtColor(binary, cv2.COLOR_GRAY2RGB)\n",
        "    return rgb_image"
      ],
      "metadata": {
        "id": "h2kBaI_WHUB6"
      },
      "id": "h2kBaI_WHUB6",
      "execution_count": 84,
      "outputs": []
    },
    {
      "cell_type": "code",
      "source": [
        "def augment_image(np_image):\n",
        "    pil_img = Image.fromarray(np_image)\n",
        "    transform = T.Compose([\n",
        "        T.RandomRotation(5),\n",
        "        T.ColorJitter(brightness=0.1, contrast=0.1),\n",
        "    ])\n",
        "    augmented = transform(pil_img)\n",
        "    return np.array(augmented)"
      ],
      "metadata": {
        "id": "bjRayYAwW_Q3"
      },
      "id": "bjRayYAwW_Q3",
      "execution_count": 85,
      "outputs": []
    },
    {
      "cell_type": "code",
      "source": [
        "class HandwrittenWordsDataset(Dataset):\n",
        "\n",
        "    def __init__(self, images_dir, labels_path):\n",
        "        self.images_dir = images_dir\n",
        "        if labels_path.endswith('.json'):\n",
        "            with open(labels_path, 'r') as f:\n",
        "                all_labels = json.load(f)\n",
        "        else:\n",
        "            raise ValueError(\"Labels must be .json.\")\n",
        "\n",
        "        self.labels = {}\n",
        "        for fname, text in all_labels.items():\n",
        "            if not fname.strip() or fname.startswith(\"._\"):\n",
        "                continue\n",
        "            img_path = os.path.join(images_dir, fname)\n",
        "            if not os.path.exists(img_path):\n",
        "                continue\n",
        "            if cv2.imread(img_path, cv2.IMREAD_GRAYSCALE) is None:\n",
        "                continue\n",
        "            self.labels[fname] = text\n",
        "\n",
        "        try:\n",
        "            self.image_files = sorted(self.labels.keys(), key=lambda x: int(os.path.splitext(x)[0]))\n",
        "        except ValueError:\n",
        "            self.image_files = sorted(self.labels.keys())\n",
        "\n",
        "    def __len__(self):\n",
        "        return len(self.image_files)\n",
        "\n",
        "    def __getitem__(self, idx):\n",
        "        fname = self.image_files[idx]\n",
        "        text = self.labels[fname]\n",
        "        img_path = os.path.join(self.images_dir, fname)\n",
        "        image_rgb = preprocess_image(img_path)\n",
        "        if self.images_dir.endswith(\"training_words\"):\n",
        "            image_rgb = augment_image(image_rgb)\n",
        "        return {\"image\": image_rgb, \"text\": text}"
      ],
      "metadata": {
        "id": "G4CIbgK2HWng"
      },
      "id": "G4CIbgK2HWng",
      "execution_count": 86,
      "outputs": []
    },
    {
      "cell_type": "code",
      "source": [
        "train_images_dir = \"/content/drive/MyDrive/dataset/Training/training_words\"\n",
        "train_labels_path = \"/content/drive/MyDrive/dataset/Training/training_labels.json\"\n",
        "val_images_dir = \"/content/drive/MyDrive/dataset/Validation/validation_words\"\n",
        "val_labels_path = \"/content/drive/MyDrive/dataset/Validation/validation_labels.json\"\n",
        "\n",
        "train_dataset = HandwrittenWordsDataset(\n",
        "    images_dir=train_images_dir,\n",
        "    labels_path=train_labels_path\n",
        ")\n",
        "\n",
        "val_dataset = HandwrittenWordsDataset(\n",
        "    images_dir=val_images_dir,\n",
        "    labels_path=val_labels_path\n",
        ")\n",
        "\n",
        "test_dataset = HandwrittenWordsDataset(\n",
        "    images_dir=\"/content/drive/MyDrive/dataset/Testing/testing_words\",\n",
        "    labels_path=\"/content/drive/MyDrive/dataset/Testing/testing_labels.json\"\n",
        ")"
      ],
      "metadata": {
        "id": "GACl67XKHZnF"
      },
      "id": "GACl67XKHZnF",
      "execution_count": 87,
      "outputs": []
    },
    {
      "cell_type": "code",
      "source": [
        "processor = TrOCRProcessor.from_pretrained('microsoft/trocr-base-handwritten')\n",
        "\n",
        "def collate_batch(batch):\n",
        "    valid_batch = [item for item in batch if item is not None]\n",
        "    if len(valid_batch) == 0:\n",
        "        raise RuntimeError(\"No valid items in batch\")\n",
        "    for item in valid_batch:\n",
        "        if not isinstance(item, dict) or \"image\" not in item or \"text\" not in item:\n",
        "            raise RuntimeError(f\"Invalid item in batch\")\n",
        "    images = [item[\"image\"] for item in valid_batch]\n",
        "    texts  = [item[\"text\"]  for item in valid_batch]\n",
        "    encodings = processor(\n",
        "        images=images,\n",
        "        text=texts,\n",
        "        return_tensors=\"pt\",\n",
        "        padding=True,\n",
        "        truncation=True,\n",
        "        max_length=16\n",
        "    )\n",
        "    labels = encodings.labels\n",
        "    labels[labels == processor.tokenizer.pad_token_id] = -100\n",
        "    return {\n",
        "        \"pixel_values\": encodings.pixel_values.to(device),\n",
        "        \"labels\": labels.to(device)\n",
        "    }"
      ],
      "metadata": {
        "id": "y2iUEu9qHb9F"
      },
      "id": "y2iUEu9qHb9F",
      "execution_count": 88,
      "outputs": []
    },
    {
      "cell_type": "code",
      "source": [
        "train_loader = DataLoader(\n",
        "    train_dataset,\n",
        "    batch_size=16,\n",
        "    shuffle=True,\n",
        "    collate_fn=collate_batch,\n",
        "    num_workers=0\n",
        ")\n",
        "\n",
        "val_loader = DataLoader(\n",
        "    val_dataset,\n",
        "    batch_size=16,\n",
        "    shuffle=False,\n",
        "    collate_fn=collate_batch,\n",
        "    num_workers=0\n",
        ")\n",
        "\n",
        "test_loader = DataLoader(\n",
        "    test_dataset,\n",
        "    batch_size=16,\n",
        "    shuffle=False,\n",
        "    collate_fn=collate_batch,\n",
        "    num_workers=0\n",
        ")"
      ],
      "metadata": {
        "id": "6jMNJqR_INOa"
      },
      "id": "6jMNJqR_INOa",
      "execution_count": 89,
      "outputs": []
    },
    {
      "cell_type": "code",
      "source": [
        "model = VisionEncoderDecoderModel.from_pretrained('microsoft/trocr-large-handwritten')\n",
        "model.to(device)"
      ],
      "metadata": {
        "colab": {
          "base_uri": "https://localhost:8080/"
        },
        "id": "_E0uUiweJNKi",
        "outputId": "ef87455e-17c1-4198-eb92-6efde3f6e8d5"
      },
      "id": "_E0uUiweJNKi",
      "execution_count": 91,
      "outputs": [
        {
          "output_type": "stream",
          "name": "stderr",
          "text": [
            "Config of the encoder: <class 'transformers.models.vit.modeling_vit.ViTModel'> is overwritten by shared encoder config: ViTConfig {\n",
            "  \"attention_probs_dropout_prob\": 0.0,\n",
            "  \"encoder_stride\": 16,\n",
            "  \"hidden_act\": \"gelu\",\n",
            "  \"hidden_dropout_prob\": 0.0,\n",
            "  \"hidden_size\": 1024,\n",
            "  \"image_size\": 384,\n",
            "  \"initializer_range\": 0.02,\n",
            "  \"intermediate_size\": 4096,\n",
            "  \"layer_norm_eps\": 1e-12,\n",
            "  \"model_type\": \"vit\",\n",
            "  \"num_attention_heads\": 16,\n",
            "  \"num_channels\": 3,\n",
            "  \"num_hidden_layers\": 24,\n",
            "  \"patch_size\": 16,\n",
            "  \"qkv_bias\": false,\n",
            "  \"transformers_version\": \"4.48.3\"\n",
            "}\n",
            "\n",
            "Config of the decoder: <class 'transformers.models.trocr.modeling_trocr.TrOCRForCausalLM'> is overwritten by shared decoder config: TrOCRConfig {\n",
            "  \"activation_dropout\": 0.0,\n",
            "  \"activation_function\": \"gelu\",\n",
            "  \"add_cross_attention\": true,\n",
            "  \"attention_dropout\": 0.0,\n",
            "  \"bos_token_id\": 0,\n",
            "  \"classifier_dropout\": 0.0,\n",
            "  \"cross_attention_hidden_size\": 1024,\n",
            "  \"d_model\": 1024,\n",
            "  \"decoder_attention_heads\": 16,\n",
            "  \"decoder_ffn_dim\": 4096,\n",
            "  \"decoder_layerdrop\": 0.0,\n",
            "  \"decoder_layers\": 12,\n",
            "  \"decoder_start_token_id\": 2,\n",
            "  \"dropout\": 0.1,\n",
            "  \"eos_token_id\": 2,\n",
            "  \"init_std\": 0.02,\n",
            "  \"is_decoder\": true,\n",
            "  \"layernorm_embedding\": true,\n",
            "  \"max_position_embeddings\": 512,\n",
            "  \"model_type\": \"trocr\",\n",
            "  \"pad_token_id\": 1,\n",
            "  \"scale_embedding\": false,\n",
            "  \"transformers_version\": \"4.48.3\",\n",
            "  \"use_cache\": false,\n",
            "  \"use_learned_position_embeddings\": true,\n",
            "  \"vocab_size\": 50265\n",
            "}\n",
            "\n",
            "Some weights of VisionEncoderDecoderModel were not initialized from the model checkpoint at microsoft/trocr-large-handwritten and are newly initialized: ['encoder.pooler.dense.bias', 'encoder.pooler.dense.weight']\n",
            "You should probably TRAIN this model on a down-stream task to be able to use it for predictions and inference.\n"
          ]
        },
        {
          "output_type": "execute_result",
          "data": {
            "text/plain": [
              "VisionEncoderDecoderModel(\n",
              "  (encoder): ViTModel(\n",
              "    (embeddings): ViTEmbeddings(\n",
              "      (patch_embeddings): ViTPatchEmbeddings(\n",
              "        (projection): Conv2d(3, 1024, kernel_size=(16, 16), stride=(16, 16))\n",
              "      )\n",
              "      (dropout): Dropout(p=0.0, inplace=False)\n",
              "    )\n",
              "    (encoder): ViTEncoder(\n",
              "      (layer): ModuleList(\n",
              "        (0-23): 24 x ViTLayer(\n",
              "          (attention): ViTSdpaAttention(\n",
              "            (attention): ViTSdpaSelfAttention(\n",
              "              (query): Linear(in_features=1024, out_features=1024, bias=False)\n",
              "              (key): Linear(in_features=1024, out_features=1024, bias=False)\n",
              "              (value): Linear(in_features=1024, out_features=1024, bias=False)\n",
              "              (dropout): Dropout(p=0.0, inplace=False)\n",
              "            )\n",
              "            (output): ViTSelfOutput(\n",
              "              (dense): Linear(in_features=1024, out_features=1024, bias=True)\n",
              "              (dropout): Dropout(p=0.0, inplace=False)\n",
              "            )\n",
              "          )\n",
              "          (intermediate): ViTIntermediate(\n",
              "            (dense): Linear(in_features=1024, out_features=4096, bias=True)\n",
              "            (intermediate_act_fn): GELUActivation()\n",
              "          )\n",
              "          (output): ViTOutput(\n",
              "            (dense): Linear(in_features=4096, out_features=1024, bias=True)\n",
              "            (dropout): Dropout(p=0.0, inplace=False)\n",
              "          )\n",
              "          (layernorm_before): LayerNorm((1024,), eps=1e-12, elementwise_affine=True)\n",
              "          (layernorm_after): LayerNorm((1024,), eps=1e-12, elementwise_affine=True)\n",
              "        )\n",
              "      )\n",
              "    )\n",
              "    (layernorm): LayerNorm((1024,), eps=1e-12, elementwise_affine=True)\n",
              "    (pooler): ViTPooler(\n",
              "      (dense): Linear(in_features=1024, out_features=1024, bias=True)\n",
              "      (activation): Tanh()\n",
              "    )\n",
              "  )\n",
              "  (decoder): TrOCRForCausalLM(\n",
              "    (model): TrOCRDecoderWrapper(\n",
              "      (decoder): TrOCRDecoder(\n",
              "        (embed_tokens): TrOCRScaledWordEmbedding(50265, 1024, padding_idx=1)\n",
              "        (embed_positions): TrOCRLearnedPositionalEmbedding(514, 1024)\n",
              "        (layernorm_embedding): LayerNorm((1024,), eps=1e-05, elementwise_affine=True)\n",
              "        (layers): ModuleList(\n",
              "          (0-11): 12 x TrOCRDecoderLayer(\n",
              "            (self_attn): TrOCRAttention(\n",
              "              (k_proj): Linear(in_features=1024, out_features=1024, bias=True)\n",
              "              (v_proj): Linear(in_features=1024, out_features=1024, bias=True)\n",
              "              (q_proj): Linear(in_features=1024, out_features=1024, bias=True)\n",
              "              (out_proj): Linear(in_features=1024, out_features=1024, bias=True)\n",
              "            )\n",
              "            (activation_fn): GELUActivation()\n",
              "            (self_attn_layer_norm): LayerNorm((1024,), eps=1e-05, elementwise_affine=True)\n",
              "            (encoder_attn): TrOCRAttention(\n",
              "              (k_proj): Linear(in_features=1024, out_features=1024, bias=True)\n",
              "              (v_proj): Linear(in_features=1024, out_features=1024, bias=True)\n",
              "              (q_proj): Linear(in_features=1024, out_features=1024, bias=True)\n",
              "              (out_proj): Linear(in_features=1024, out_features=1024, bias=True)\n",
              "            )\n",
              "            (encoder_attn_layer_norm): LayerNorm((1024,), eps=1e-05, elementwise_affine=True)\n",
              "            (fc1): Linear(in_features=1024, out_features=4096, bias=True)\n",
              "            (fc2): Linear(in_features=4096, out_features=1024, bias=True)\n",
              "            (final_layer_norm): LayerNorm((1024,), eps=1e-05, elementwise_affine=True)\n",
              "          )\n",
              "        )\n",
              "      )\n",
              "    )\n",
              "    (output_projection): Linear(in_features=1024, out_features=50265, bias=False)\n",
              "  )\n",
              ")"
            ]
          },
          "metadata": {},
          "execution_count": 91
        }
      ]
    },
    {
      "cell_type": "code",
      "source": [
        "model.config.decoder_start_token_id = processor.tokenizer.eos_token_id\n",
        "model.config.pad_token_id = processor.tokenizer.pad_token_id"
      ],
      "metadata": {
        "id": "Q_B_W_pgJrRo"
      },
      "id": "Q_B_W_pgJrRo",
      "execution_count": 92,
      "outputs": []
    },
    {
      "cell_type": "code",
      "source": [
        "num_epochs = 10\n",
        "optimizer = optim.AdamW(model.parameters(), lr=1e-4)\n",
        "scheduler = lr_scheduler.CosineAnnealingLR(optimizer, T_max=len(train_loader) * num_epochs)\n",
        "scaler = GradScaler(\"cuda\")  # device cuda to absolve error\n",
        "\n",
        "model.train()\n",
        "for epoch in range(num_epochs):\n",
        "    running_loss = 0.0\n",
        "    for i, batch in enumerate(train_loader):\n",
        "        if i == 0:\n",
        "            print(f\"Epoch {epoch+1}: pixel_values shape: {batch['pixel_values'].shape}, labels shape: {batch['labels'].shape}\")\n",
        "        optimizer.zero_grad()\n",
        "        with autocast(\"cuda\"):\n",
        "            outputs = model(pixel_values=batch[\"pixel_values\"], labels=batch[\"labels\"])\n",
        "            loss = outputs.loss\n",
        "        scaler.scale(loss).backward()\n",
        "        torch.nn.utils.clip_grad_norm_(model.parameters(), max_norm=1.0)\n",
        "        scaler.step(optimizer)\n",
        "        scaler.update()\n",
        "        scheduler.step()\n",
        "        running_loss += loss.item()\n",
        "\n",
        "    avg_loss = running_loss / (i + 1)\n",
        "\n",
        "    model.eval()\n",
        "    total_correct = 0\n",
        "    total_samples = 0\n",
        "    with torch.no_grad():\n",
        "        for val_batch in val_loader:\n",
        "            generated_ids = model.generate(pixel_values=val_batch[\"pixel_values\"], num_beams=5, max_length=16)\n",
        "            preds = processor.tokenizer.batch_decode(generated_ids, skip_special_tokens=True)\n",
        "            label_ids = val_batch[\"labels\"].clone()\n",
        "            label_ids[label_ids == -100] = processor.tokenizer.pad_token_id\n",
        "            gt_texts = processor.tokenizer.batch_decode(label_ids, skip_special_tokens=True)\n",
        "            for pred, gt in zip(preds, gt_texts):\n",
        "                if pred.strip() == gt.strip():\n",
        "                    total_correct += 1\n",
        "                total_samples += 1\n",
        "    val_accuracy = total_correct / total_samples if total_samples > 0 else 0.0\n",
        "    print(f\"Epoch {epoch+1}/{num_epochs} - Avg Loss: {avg_loss:.4f} - Validation Accuracy: {val_accuracy:.4f}\")\n",
        "\n",
        "    model.train()"
      ],
      "metadata": {
        "colab": {
          "base_uri": "https://localhost:8080/"
        },
        "id": "YKZ42WdyIXHJ",
        "outputId": "24ac40d5-cc47-417d-d3c7-ac7d3950402e"
      },
      "id": "YKZ42WdyIXHJ",
      "execution_count": 93,
      "outputs": [
        {
          "output_type": "stream",
          "name": "stdout",
          "text": [
            "Epoch 1: pixel_values shape: torch.Size([16, 3, 384, 384]), labels shape: torch.Size([16, 6])\n",
            "Epoch 1/10 - Avg Loss: 0.5483 - Validation Accuracy: 0.9231\n",
            "Epoch 2: pixel_values shape: torch.Size([16, 3, 384, 384]), labels shape: torch.Size([16, 5])\n",
            "Epoch 2/10 - Avg Loss: 0.0686 - Validation Accuracy: 0.9308\n",
            "Epoch 3: pixel_values shape: torch.Size([16, 3, 384, 384]), labels shape: torch.Size([16, 6])\n",
            "Epoch 3/10 - Avg Loss: 0.0300 - Validation Accuracy: 0.9526\n",
            "Epoch 4: pixel_values shape: torch.Size([16, 3, 384, 384]), labels shape: torch.Size([16, 6])\n",
            "Epoch 4/10 - Avg Loss: 0.0150 - Validation Accuracy: 0.9449\n",
            "Epoch 5: pixel_values shape: torch.Size([16, 3, 384, 384]), labels shape: torch.Size([16, 6])\n",
            "Epoch 5/10 - Avg Loss: 0.0051 - Validation Accuracy: 0.9551\n",
            "Epoch 6: pixel_values shape: torch.Size([16, 3, 384, 384]), labels shape: torch.Size([16, 6])\n",
            "Epoch 6/10 - Avg Loss: 0.0029 - Validation Accuracy: 0.9782\n",
            "Epoch 7: pixel_values shape: torch.Size([16, 3, 384, 384]), labels shape: torch.Size([16, 6])\n",
            "Epoch 7/10 - Avg Loss: 0.0009 - Validation Accuracy: 0.9756\n",
            "Epoch 8: pixel_values shape: torch.Size([16, 3, 384, 384]), labels shape: torch.Size([16, 6])\n",
            "Epoch 8/10 - Avg Loss: 0.0004 - Validation Accuracy: 0.9795\n",
            "Epoch 9: pixel_values shape: torch.Size([16, 3, 384, 384]), labels shape: torch.Size([16, 6])\n",
            "Epoch 9/10 - Avg Loss: 0.0001 - Validation Accuracy: 0.9769\n",
            "Epoch 10: pixel_values shape: torch.Size([16, 3, 384, 384]), labels shape: torch.Size([16, 6])\n",
            "Epoch 10/10 - Avg Loss: 0.0002 - Validation Accuracy: 0.9782\n"
          ]
        }
      ]
    },
    {
      "cell_type": "code",
      "source": [
        "model.eval()\n",
        "total_correct = 0\n",
        "total_samples = 0\n",
        "all_predictions = []\n",
        "\n",
        "with torch.no_grad():\n",
        "    for batch in test_loader:\n",
        "        generated_ids = model.generate(pixel_values=batch[\"pixel_values\"], num_beams=5, max_length=16)\n",
        "        preds = processor.tokenizer.batch_decode(generated_ids, skip_special_tokens=True)\n",
        "        label_ids = batch[\"labels\"].clone()\n",
        "        label_ids[label_ids == -100] = processor.tokenizer.pad_token_id\n",
        "        gt_texts = processor.tokenizer.batch_decode(label_ids, skip_special_tokens=True)\n",
        "\n",
        "        all_predictions.extend(zip(preds, gt_texts))\n",
        "\n",
        "        for pred, gt in zip(preds, gt_texts):\n",
        "            if pred.strip() == gt.strip():\n",
        "                total_correct += 1\n",
        "            total_samples += 1\n",
        "\n",
        "test_accuracy = total_correct / total_samples if total_samples > 0 else 0.0\n",
        "print(test_accuracy)"
      ],
      "metadata": {
        "colab": {
          "base_uri": "https://localhost:8080/"
        },
        "id": "nifYn4tkKnUR",
        "outputId": "6e1a2431-ff1d-4dae-d753-d996e81d8a7a"
      },
      "id": "nifYn4tkKnUR",
      "execution_count": 94,
      "outputs": [
        {
          "output_type": "stream",
          "name": "stdout",
          "text": [
            "0.9551282051282052\n"
          ]
        }
      ]
    },
    {
      "cell_type": "code",
      "source": [],
      "metadata": {
        "id": "2g8OI_fyVBI8"
      },
      "id": "2g8OI_fyVBI8",
      "execution_count": null,
      "outputs": []
    }
  ],
  "metadata": {
    "kernelspec": {
      "display_name": "Python 3",
      "name": "python3"
    },
    "language_info": {
      "codemirror_mode": {
        "name": "ipython",
        "version": 3
      },
      "file_extension": ".py",
      "mimetype": "text/x-python",
      "name": "python",
      "nbconvert_exporter": "python",
      "pygments_lexer": "ipython3",
      "version": "3.12.7"
    },
    "colab": {
      "provenance": [],
      "machine_shape": "hm",
      "gpuType": "A100"
    },
    "accelerator": "GPU"
  },
  "nbformat": 4,
  "nbformat_minor": 5
}