{
 "cells": [
  {
   "cell_type": "code",
   "execution_count": 17,
   "metadata": {
    "execution": {
     "iopub.execute_input": "2024-11-07T08:56:17.652702Z",
     "iopub.status.busy": "2024-11-07T08:56:17.651973Z",
     "iopub.status.idle": "2024-11-07T08:56:39.763224Z",
     "shell.execute_reply": "2024-11-07T08:56:39.762433Z",
     "shell.execute_reply.started": "2024-11-07T08:56:17.652648Z"
    },
    "trusted": true
   },
   "outputs": [],
   "source": [
    "import os\n",
    "import pandas as pd\n",
    "import numpy as np\n",
    "from PIL import Image\n",
    "import pytesseract\n",
    "import cv2\n",
    "import matplotlib.pyplot as plt\n",
    "\n",
    "from sklearn.metrics import accuracy_score\n",
    "from sklearn.model_selection import train_test_split\n",
    "\n",
    "import tensorflow as tf\n",
    "from tensorflow.keras import layers, models\n",
    "from tensorflow.keras.layers import Input, Conv2D, MaxPooling2D, LSTM, Flatten, Dense, Reshape, Bidirectional, Dropout, BatchNormalization\n",
    "from tensorflow.keras.optimizers import Adam\n",
    "from tensorflow.keras.callbacks import EarlyStopping\n",
    "from tensorflow.keras.preprocessing.image import ImageDataGenerator\n",
    "from tensorflow.keras.regularizers import l2\n",
    "from torch.optim import AdamW\n",
    "\n",
    "from transformers import (\n",
    "    BertTokenizerFast, \n",
    "    BertConfig, \n",
    "    BertForMaskedLM, \n",
    "    AdamW, \n",
    "    Trainer, \n",
    "    TrainingArguments, \n",
    "    DataCollatorForSeq2Seq\n",
    ")\n",
    "\n",
    "\n",
    "from tokenizers import Tokenizer\n",
    "from tokenizers.models import WordLevel\n",
    "from tokenizers.pre_tokenizers import Whitespace\n",
    "from tokenizers.trainers import WordLevelTrainer\n",
    "\n",
    "import torch\n",
    "from torch.utils.data import Dataset\n",
    "\n",
    "os.environ['TF_CPP_MIN_LOG_LEVEL'] = '2'"
   ]
  },
  {
   "cell_type": "markdown",
   "metadata": {},
   "source": [
    "# Start"
   ]
  },
  {
   "cell_type": "code",
   "execution_count": 2,
   "metadata": {
    "execution": {
     "iopub.execute_input": "2024-11-07T08:56:39.764962Z",
     "iopub.status.busy": "2024-11-07T08:56:39.764353Z",
     "iopub.status.idle": "2024-11-07T08:56:39.796979Z",
     "shell.execute_reply": "2024-11-07T08:56:39.796124Z",
     "shell.execute_reply.started": "2024-11-07T08:56:39.764913Z"
    },
    "trusted": true
   },
   "outputs": [
    {
     "data": {
      "text/html": [
       "<div>\n",
       "<style scoped>\n",
       "    .dataframe tbody tr th:only-of-type {\n",
       "        vertical-align: middle;\n",
       "    }\n",
       "\n",
       "    .dataframe tbody tr th {\n",
       "        vertical-align: top;\n",
       "    }\n",
       "\n",
       "    .dataframe thead th {\n",
       "        text-align: right;\n",
       "    }\n",
       "</style>\n",
       "<table border=\"1\" class=\"dataframe\">\n",
       "  <thead>\n",
       "    <tr style=\"text-align: right;\">\n",
       "      <th></th>\n",
       "      <th>IMAGE</th>\n",
       "      <th>MEDICINE_NAME</th>\n",
       "      <th>GENERIC_NAME</th>\n",
       "    </tr>\n",
       "  </thead>\n",
       "  <tbody>\n",
       "    <tr>\n",
       "      <th>0</th>\n",
       "      <td>0.png</td>\n",
       "      <td>Aceta</td>\n",
       "      <td>Paracetamol</td>\n",
       "    </tr>\n",
       "    <tr>\n",
       "      <th>1</th>\n",
       "      <td>1.png</td>\n",
       "      <td>Aceta</td>\n",
       "      <td>Paracetamol</td>\n",
       "    </tr>\n",
       "    <tr>\n",
       "      <th>2</th>\n",
       "      <td>2.png</td>\n",
       "      <td>Aceta</td>\n",
       "      <td>Paracetamol</td>\n",
       "    </tr>\n",
       "    <tr>\n",
       "      <th>3</th>\n",
       "      <td>3.png</td>\n",
       "      <td>Aceta</td>\n",
       "      <td>Paracetamol</td>\n",
       "    </tr>\n",
       "    <tr>\n",
       "      <th>4</th>\n",
       "      <td>4.png</td>\n",
       "      <td>Aceta</td>\n",
       "      <td>Paracetamol</td>\n",
       "    </tr>\n",
       "  </tbody>\n",
       "</table>\n",
       "</div>"
      ],
      "text/plain": [
       "   IMAGE MEDICINE_NAME GENERIC_NAME\n",
       "0  0.png         Aceta  Paracetamol\n",
       "1  1.png         Aceta  Paracetamol\n",
       "2  2.png         Aceta  Paracetamol\n",
       "3  3.png         Aceta  Paracetamol\n",
       "4  4.png         Aceta  Paracetamol"
      ]
     },
     "execution_count": 2,
     "metadata": {},
     "output_type": "execute_result"
    }
   ],
   "source": [
    "df=pd.read_csv('dataset/Training/training_labels.csv')\n",
    "\n",
    "df.head()"
   ]
  },
  {
   "cell_type": "code",
   "execution_count": 3,
   "metadata": {
    "execution": {
     "iopub.execute_input": "2024-11-07T08:56:39.799729Z",
     "iopub.status.busy": "2024-11-07T08:56:39.799411Z",
     "iopub.status.idle": "2024-11-07T08:56:39.827739Z",
     "shell.execute_reply": "2024-11-07T08:56:39.826906Z",
     "shell.execute_reply.started": "2024-11-07T08:56:39.799697Z"
    },
    "trusted": true
   },
   "outputs": [
    {
     "data": {
      "text/plain": [
       "array([[254, 255, 255, ..., 255, 255, 255],\n",
       "       [255, 255, 255, ..., 255, 255, 255],\n",
       "       [255, 255, 255, ..., 255, 255, 255],\n",
       "       ...,\n",
       "       [254, 252, 244, ..., 252, 254, 255],\n",
       "       [255, 252, 166, ..., 255, 254, 255],\n",
       "       [254, 245,  33, ..., 255, 254, 255]], dtype=uint8)"
      ]
     },
     "execution_count": 3,
     "metadata": {},
     "output_type": "execute_result"
    }
   ],
   "source": [
    "img=cv2.imread('dataset/Training/training_words/69.png',cv2.IMREAD_GRAYSCALE)\n",
    "\n",
    "img"
   ]
  },
  {
   "cell_type": "code",
   "execution_count": 4,
   "metadata": {
    "execution": {
     "iopub.execute_input": "2024-11-07T08:56:39.828978Z",
     "iopub.status.busy": "2024-11-07T08:56:39.828680Z",
     "iopub.status.idle": "2024-11-07T08:56:40.127571Z",
     "shell.execute_reply": "2024-11-07T08:56:40.126635Z",
     "shell.execute_reply.started": "2024-11-07T08:56:39.828947Z"
    },
    "trusted": true
   },
   "outputs": [
    {
     "data": {
      "text/plain": [
       "<matplotlib.image.AxesImage at 0x15ee3a8e0>"
      ]
     },
     "execution_count": 4,
     "metadata": {},
     "output_type": "execute_result"
    },
    {
     "data": {
      "image/png": "[encoded data removed]",
      "text/plain": [
       "<Figure size 640x480 with 1 Axes>"
      ]
     },
     "metadata": {},
     "output_type": "display_data"
    }
   ],
   "source": [
    "plt.imshow(img,cmap='gray')"
   ]
  },
  {
   "cell_type": "markdown",
   "metadata": {},
   "source": [
    "# Data Collection"
   ]
  },
  {
   "cell_type": "code",
   "execution_count": 5,
   "metadata": {
    "execution": {
     "iopub.execute_input": "2024-11-07T08:56:40.129780Z",
     "iopub.status.busy": "2024-11-07T08:56:40.129068Z",
     "iopub.status.idle": "2024-11-07T08:56:40.134443Z",
     "shell.execute_reply": "2024-11-07T08:56:40.133358Z",
     "shell.execute_reply.started": "2024-11-07T08:56:40.129729Z"
    },
    "trusted": true
   },
   "outputs": [],
   "source": [
    "def one_hot_encoded_Y(df):\n",
    "    return pd.get_dummies(df['MEDICINE_NAME'],dtype=int)"
   ]
  },
  {
   "cell_type": "code",
   "execution_count": 6,
   "metadata": {
    "execution": {
     "iopub.execute_input": "2024-11-07T08:56:40.136086Z",
     "iopub.status.busy": "2024-11-07T08:56:40.135729Z",
     "iopub.status.idle": "2024-11-07T08:56:40.146147Z",
     "shell.execute_reply": "2024-11-07T08:56:40.145339Z",
     "shell.execute_reply.started": "2024-11-07T08:56:40.136050Z"
    },
    "trusted": true
   },
   "outputs": [],
   "source": [
    "def load_images(image_paths,target_size=(128,32)): # width,height\n",
    "\n",
    "    imagess=[]\n",
    "\n",
    "    for path in image_paths:\n",
    "\n",
    "        img=cv2.imread(path)\n",
    "\n",
    "        img=cv2.resize(img,target_size)\n",
    "\n",
    "        img=img.astype('float32')/255.0\n",
    "\n",
    "        imagess.append(img)\n",
    "\n",
    "    imagess=np.array(imagess)\n",
    "    \n",
    "    imagess=imagess.reshape(imagess.shape[0],32,128,3)\n",
    "\n",
    "    return imagess"
   ]
  },
  {
   "cell_type": "code",
   "execution_count": 7,
   "metadata": {
    "execution": {
     "iopub.execute_input": "2024-11-07T08:56:40.147434Z",
     "iopub.status.busy": "2024-11-07T08:56:40.147151Z",
     "iopub.status.idle": "2024-11-07T08:56:40.157106Z",
     "shell.execute_reply": "2024-11-07T08:56:40.156266Z",
     "shell.execute_reply.started": "2024-11-07T08:56:40.147402Z"
    },
    "trusted": true
   },
   "outputs": [],
   "source": [
    "def XY(folder):\n",
    "    lower=folder.lower()\n",
    "    \n",
    "    df=pd.read_csv(f\"dataset/{folder}/{lower}_labels.csv\")\n",
    "    \n",
    "    Y=one_hot_encoded_Y(df)\n",
    "    \n",
    "    image_folder=f\"dataset/{folder}/{lower}_words/\"\n",
    "    image_paths=[os.path.join(image_folder,filename) for filename in df['IMAGE']]\n",
    "\n",
    "    X=load_images(image_paths)\n",
    "\n",
    "    return X,Y"
   ]
  },
  {
   "cell_type": "markdown",
   "metadata": {},
   "source": [
    "# CRNN model\n"
   ]
  },
  {
   "cell_type": "code",
   "execution_count": 8,
   "metadata": {
    "execution": {
     "iopub.execute_input": "2024-11-07T08:56:40.158860Z",
     "iopub.status.busy": "2024-11-07T08:56:40.158566Z",
     "iopub.status.idle": "2024-11-07T08:56:40.180328Z",
     "shell.execute_reply": "2024-11-07T08:56:40.179488Z",
     "shell.execute_reply.started": "2024-11-07T08:56:40.158828Z"
    },
    "trusted": true
   },
   "outputs": [
    {
     "data": {
      "text/plain": [
       "78"
      ]
     },
     "execution_count": 8,
     "metadata": {},
     "output_type": "execute_result"
    }
   ],
   "source": [
    "medicine_names=df['MEDICINE_NAME'].unique()\n",
    "len(medicine_names) # 78 classes"
   ]
  },
  {
   "cell_type": "code",
   "execution_count": 9,
   "metadata": {
    "execution": {
     "iopub.execute_input": "2024-11-07T08:56:40.181966Z",
     "iopub.status.busy": "2024-11-07T08:56:40.181566Z",
     "iopub.status.idle": "2024-11-07T08:56:58.156391Z",
     "shell.execute_reply": "2024-11-07T08:56:58.155555Z",
     "shell.execute_reply.started": "2024-11-07T08:56:40.181922Z"
    },
    "trusted": true
   },
   "outputs": [],
   "source": [
    "x,y=XY(\"Training\")\n",
    "xval,yval=XY(\"Validation\")\n",
    "xtrain,xtest,ytrain,ytest=train_test_split(x,y,test_size=0.2,random_state=12,stratify=y)"
   ]
  },
  {
   "cell_type": "code",
   "execution_count": 13,
   "metadata": {
    "execution": {
     "iopub.execute_input": "2024-11-07T08:56:58.158258Z",
     "iopub.status.busy": "2024-11-07T08:56:58.157773Z",
     "iopub.status.idle": "2024-11-07T08:56:58.323931Z",
     "shell.execute_reply": "2024-11-07T08:56:58.323029Z",
     "shell.execute_reply.started": "2024-11-07T08:56:58.158201Z"
    },
    "trusted": true
   },
   "outputs": [
    {
     "data": {
      "text/plain": [
       "<matplotlib.image.AxesImage at 0x15f8da100>"
      ]
     },
     "execution_count": 13,
     "metadata": {},
     "output_type": "execute_result"
    },
    {
     "data": {
      "image/png": "[encoded data removed]",
      "text/plain": [
       "<Figure size 640x480 with 1 Axes>"
      ]
     },
     "metadata": {},
     "output_type": "display_data"
    }
   ],
   "source": [
    "plt.imshow(x[69],cmap='gray')"
   ]
  },
  {
   "cell_type": "code",
   "execution_count": 15,
   "metadata": {
    "execution": {
     "iopub.execute_input": "2024-11-07T08:56:58.325940Z",
     "iopub.status.busy": "2024-11-07T08:56:58.325619Z",
     "iopub.status.idle": "2024-11-07T08:56:59.122023Z",
     "shell.execute_reply": "2024-11-07T08:56:59.121081Z",
     "shell.execute_reply.started": "2024-11-07T08:56:58.325880Z"
    },
    "trusted": true
   },
   "outputs": [
    {
     "name": "stderr",
     "output_type": "stream",
     "text": [
      "WARNING:absl:At this time, the v2.11+ optimizer `tf.keras.optimizers.Adam` runs slowly on M1/M2 Macs, please use the legacy Keras optimizer instead, located at `tf.keras.optimizers.legacy.Adam`.\n",
      "WARNING:absl:There is a known slowdown when using v2.11+ Keras optimizers on M1/M2 Macs. Falling back to the legacy Keras optimizer, i.e., `tf.keras.optimizers.legacy.Adam`.\n"
     ]
    },
    {
     "name": "stdout",
     "output_type": "stream",
     "text": [
      "Model: \"sequential_1\"\n",
      "_________________________________________________________________\n",
      " Layer (type)                Output Shape              Param #   \n",
      "=================================================================\n",
      " conv2d_3 (Conv2D)           (None, 32, 128, 32)       896       \n",
      "                                                                 \n",
      " max_pooling2d_3 (MaxPoolin  (None, 16, 64, 32)        0         \n",
      " g2D)                                                            \n",
      "                                                                 \n",
      " conv2d_4 (Conv2D)           (None, 16, 64, 64)        18496     \n",
      "                                                                 \n",
      " max_pooling2d_4 (MaxPoolin  (None, 8, 32, 64)         0         \n",
      " g2D)                                                            \n",
      "                                                                 \n",
      " conv2d_5 (Conv2D)           (None, 8, 32, 128)        73856     \n",
      "                                                                 \n",
      " max_pooling2d_5 (MaxPoolin  (None, 4, 16, 128)        0         \n",
      " g2D)                                                            \n",
      "                                                                 \n",
      " flatten_1 (Flatten)         (None, 8192)              0         \n",
      "                                                                 \n",
      " dense_2 (Dense)             (None, 1024)              8389632   \n",
      "                                                                 \n",
      " dropout_1 (Dropout)         (None, 1024)              0         \n",
      "                                                                 \n",
      " dense_3 (Dense)             (None, 78)                79950     \n",
      "                                                                 \n",
      "=================================================================\n",
      "Total params: 8562830 (32.66 MB)\n",
      "Trainable params: 8562830 (32.66 MB)\n",
      "Non-trainable params: 0 (0.00 Byte)\n",
      "_________________________________________________________________\n"
     ]
    }
   ],
   "source": [
    "lambda_reg=0.00001\n",
    "model=models.Sequential([\n",
    "    Input(shape=(32, 128, 3)),  \n",
    "\n",
    "    Conv2D(32, (3, 3), activation='relu', padding='same'),\n",
    "    MaxPooling2D(pool_size=(2, 2)), \n",
    "\n",
    "    Conv2D(64, (3, 3), activation='relu', padding='same', kernel_regularizer=l2(lambda_reg)),\n",
    "    MaxPooling2D(pool_size=(2, 2)), \n",
    "\n",
    "    Conv2D(128, (3, 3), activation='relu', padding='same', kernel_regularizer=l2(lambda_reg)),\n",
    "    MaxPooling2D(pool_size=(2, 2)),\n",
    "    \n",
    "    # Flatten the 3D output to 1D for the Dense layers\n",
    "    Flatten(),\n",
    "\n",
    "    Dense(1024, activation='relu', kernel_regularizer=l2(lambda_reg)),\n",
    "    Dropout(0.55), \n",
    "\n",
    "    # Output layer\n",
    "    Dense(len(medicine_names), activation='softmax', kernel_regularizer=l2(lambda_reg))  \n",
    "])\n",
    "model.compile(optimizer=Adam(learning_rate=0.0001,beta_1=0.9, beta_2=0.999),loss='categorical_crossentropy',metrics=['accuracy'])\n",
    "model.summary()"
   ]
  },
  {
   "cell_type": "code",
   "execution_count": 16,
   "metadata": {
    "execution": {
     "iopub.execute_input": "2024-11-07T08:56:59.126707Z",
     "iopub.status.busy": "2024-11-07T08:56:59.126389Z",
     "iopub.status.idle": "2024-11-07T08:57:22.769128Z",
     "shell.execute_reply": "2024-11-07T08:57:22.768176Z",
     "shell.execute_reply.started": "2024-11-07T08:56:59.126673Z"
    },
    "trusted": true
   },
   "outputs": [
    {
     "name": "stdout",
     "output_type": "stream",
     "text": [
      "Epoch 1/20\n",
      "78/78 [==============================] - 6s 75ms/step - loss: 4.3900 - accuracy: 0.0104 - val_loss: 4.3607 - val_accuracy: 0.0205\n",
      "Epoch 2/20\n",
      "78/78 [==============================] - 6s 71ms/step - loss: 4.3457 - accuracy: 0.0196 - val_loss: 4.2768 - val_accuracy: 0.0526\n",
      "Epoch 3/20\n",
      "78/78 [==============================] - 6s 76ms/step - loss: 4.1870 - accuracy: 0.0565 - val_loss: 3.9280 - val_accuracy: 0.1782\n",
      "Epoch 4/20\n",
      "78/78 [==============================] - 6s 72ms/step - loss: 3.7499 - accuracy: 0.1470 - val_loss: 3.3248 - val_accuracy: 0.2949\n",
      "Epoch 5/20\n",
      "78/78 [==============================] - 6s 72ms/step - loss: 3.1691 - accuracy: 0.2548 - val_loss: 2.9013 - val_accuracy: 0.3372\n",
      "Epoch 6/20\n",
      "78/78 [==============================] - 6s 76ms/step - loss: 2.7271 - accuracy: 0.3534 - val_loss: 2.5208 - val_accuracy: 0.4346\n",
      "Epoch 7/20\n",
      "78/78 [==============================] - 6s 75ms/step - loss: 2.2747 - accuracy: 0.4367 - val_loss: 2.2925 - val_accuracy: 0.4667\n",
      "Epoch 8/20\n",
      "78/78 [==============================] - 6s 76ms/step - loss: 1.9513 - accuracy: 0.5152 - val_loss: 2.0593 - val_accuracy: 0.5410\n",
      "Epoch 9/20\n",
      "78/78 [==============================] - 6s 71ms/step - loss: 1.6407 - accuracy: 0.5805 - val_loss: 1.9034 - val_accuracy: 0.5628\n",
      "Epoch 10/20\n",
      "78/78 [==============================] - 6s 71ms/step - loss: 1.4213 - accuracy: 0.6286 - val_loss: 1.8089 - val_accuracy: 0.5821\n",
      "Epoch 11/20\n",
      "78/78 [==============================] - 6s 71ms/step - loss: 1.1507 - accuracy: 0.7039 - val_loss: 1.7261 - val_accuracy: 0.5962\n",
      "Epoch 12/20\n",
      "78/78 [==============================] - 5s 70ms/step - loss: 0.9924 - accuracy: 0.7300 - val_loss: 1.6818 - val_accuracy: 0.6038\n",
      "Epoch 13/20\n",
      "78/78 [==============================] - 5s 70ms/step - loss: 0.7972 - accuracy: 0.7837 - val_loss: 1.6042 - val_accuracy: 0.6244\n",
      "Epoch 14/20\n",
      "78/78 [==============================] - 6s 73ms/step - loss: 0.6742 - accuracy: 0.8285 - val_loss: 1.5865 - val_accuracy: 0.6410\n",
      "Epoch 15/20\n",
      "78/78 [==============================] - 6s 73ms/step - loss: 0.5649 - accuracy: 0.8522 - val_loss: 1.4995 - val_accuracy: 0.6487\n",
      "Epoch 16/20\n",
      "78/78 [==============================] - 6s 72ms/step - loss: 0.4690 - accuracy: 0.8762 - val_loss: 1.5217 - val_accuracy: 0.6590\n",
      "Epoch 17/20\n",
      "78/78 [==============================] - 6s 72ms/step - loss: 0.3935 - accuracy: 0.8942 - val_loss: 1.5286 - val_accuracy: 0.6628\n",
      "Epoch 18/20\n",
      "78/78 [==============================] - 6s 75ms/step - loss: 0.3338 - accuracy: 0.9183 - val_loss: 1.5530 - val_accuracy: 0.6538\n",
      "20/20 [==============================] - 0s 16ms/step - loss: 1.2591 - accuracy: 0.6875\n",
      "train's test loss : 1.2591235637664795\n",
      "train's test accuracy : 0.6875\n"
     ]
    }
   ],
   "source": [
    "history=model.fit(xtrain,\n",
    "                  ytrain,\n",
    "                  epochs=20,\n",
    "                  batch_size=32,\n",
    "                  validation_data=(xval,yval),\n",
    "                  callbacks=[EarlyStopping(monitor='val_loss',patience=3,restore_best_weights=True)])\n",
    "test_loss,test_acc=model.evaluate(xtest,ytest)\n",
    "print(f\"train's test loss : {test_loss}\")\n",
    "print(f\"train's test accuracy : {test_acc}\")"
   ]
  },
  {
   "cell_type": "markdown",
   "metadata": {},
   "source": [
    "# Testing"
   ]
  },
  {
   "cell_type": "code",
   "execution_count": 17,
   "metadata": {
    "execution": {
     "iopub.execute_input": "2024-11-07T08:57:22.770648Z",
     "iopub.status.busy": "2024-11-07T08:57:22.770322Z",
     "iopub.status.idle": "2024-11-07T08:57:30.845408Z",
     "shell.execute_reply": "2024-11-07T08:57:30.844572Z",
     "shell.execute_reply.started": "2024-11-07T08:57:22.770613Z"
    },
    "trusted": true
   },
   "outputs": [],
   "source": [
    "xtrain,ytrain=XY(\"Training\")\n",
    "xtest,ytest=XY(\"Testing\")\n",
    "xval,yval=XY(\"Validation\")"
   ]
  },
  {
   "cell_type": "code",
   "execution_count": 18,
   "metadata": {
    "execution": {
     "iopub.execute_input": "2024-11-07T08:57:30.846983Z",
     "iopub.status.busy": "2024-11-07T08:57:30.846634Z",
     "iopub.status.idle": "2024-11-07T08:57:50.775690Z",
     "shell.execute_reply": "2024-11-07T08:57:50.774691Z",
     "shell.execute_reply.started": "2024-11-07T08:57:30.846947Z"
    },
    "trusted": true
   },
   "outputs": [
    {
     "name": "stdout",
     "output_type": "stream",
     "text": [
      "Epoch 1/20\n",
      "98/98 [==============================] - 8s 75ms/step - loss: 0.5127 - accuracy: 0.8901 - val_loss: 1.2479 - val_accuracy: 0.7141\n",
      "Epoch 2/20\n",
      "98/98 [==============================] - 7s 73ms/step - loss: 0.3969 - accuracy: 0.9106 - val_loss: 1.2147 - val_accuracy: 0.7218\n",
      "Epoch 3/20\n",
      "98/98 [==============================] - 7s 75ms/step - loss: 0.2982 - accuracy: 0.9263 - val_loss: 1.1879 - val_accuracy: 0.7333\n",
      "Epoch 4/20\n",
      "98/98 [==============================] - 7s 69ms/step - loss: 0.2327 - accuracy: 0.9433 - val_loss: 1.2196 - val_accuracy: 0.7333\n",
      "Epoch 5/20\n",
      "98/98 [==============================] - 7s 69ms/step - loss: 0.1930 - accuracy: 0.9548 - val_loss: 1.1987 - val_accuracy: 0.7359\n",
      "Epoch 6/20\n",
      "98/98 [==============================] - 7s 69ms/step - loss: 0.1643 - accuracy: 0.9596 - val_loss: 1.1973 - val_accuracy: 0.7513\n",
      "25/25 [==============================] - 0s 16ms/step - loss: 1.9683 - accuracy: 0.6000\n",
      "test loss : 1.9682706594467163\n",
      "test accuracy : 0.6000000238418579\n"
     ]
    }
   ],
   "source": [
    "history=model.fit(xtrain,\n",
    "                  ytrain,\n",
    "                  epochs=20,\n",
    "                  batch_size=32,\n",
    "                  validation_data=(xval,yval),\n",
    "                  callbacks=[EarlyStopping(monitor='val_loss',patience=3,restore_best_weights=True)])\n",
    "test_loss,test_acc=model.evaluate(xtest,ytest)\n",
    "print(f\"test loss : {test_loss}\")\n",
    "print(f\"test accuracy : {test_acc}\")"
   ]
  },
  {
   "cell_type": "markdown",
   "metadata": {},
   "source": [
    "# Saving the model"
   ]
  },
  {
   "cell_type": "code",
   "execution_count": null,
   "metadata": {
    "execution": {
     "iopub.execute_input": "2024-11-07T08:57:50.777275Z",
     "iopub.status.busy": "2024-11-07T08:57:50.776944Z",
     "iopub.status.idle": "2024-11-07T08:57:51.165042Z",
     "shell.execute_reply": "2024-11-07T08:57:51.163967Z",
     "shell.execute_reply.started": "2024-11-07T08:57:50.777239Z"
    },
    "trusted": true
   },
   "outputs": [],
   "source": [
    "model.save('prescription_classification_CNRR.keras')"
   ]
  }
 ],
 "metadata": {
  "kaggle": {
   "accelerator": "nvidiaTeslaT4",
   "dataSources": [
    {
     "datasetId": 4982232,
     "sourceId": 8378585,
     "sourceType": "datasetVersion"
    },
    {
     "datasetId": 6029940,
     "sourceId": 9831500,
     "sourceType": "datasetVersion"
    }
   ],
   "dockerImageVersionId": 30787,
   "isGpuEnabled": true,
   "isInternetEnabled": false,
   "language": "python",
   "sourceType": "notebook"
  },
  "kernelspec": {
   "display_name": "venv",
   "language": "python",
   "name": "python3"
  },
  "language_info": {
   "codemirror_mode": {
    "name": "ipython",
    "version": 3
   },
   "file_extension": ".py",
   "mimetype": "text/x-python",
   "name": "python",
   "nbconvert_exporter": "python",
   "pygments_lexer": "ipython3",
   "version": "3.8.10"
  }
 },
 "nbformat": 4,
 "nbformat_minor": 4
}
